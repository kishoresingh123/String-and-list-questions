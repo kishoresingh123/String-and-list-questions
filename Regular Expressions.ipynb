{
 "cells": [
  {
   "cell_type": "code",
   "execution_count": null,
   "metadata": {},
   "outputs": [],
   "source": [
    "#regular Expressions ==import re\n",
    "#pattern matching\n",
    "#Digits,ala*lower and upper case\n",
    "#to start any regular experssions--^(cap)\n",
    "#to end any regular experssions--$(dollar)\n",
    "#website regexpal.com\n",
    "#to match digits[0-9]\n",
    "#repitation=={}"
   ]
  },
  {
   "cell_type": "code",
   "execution_count": 2,
   "metadata": {},
   "outputs": [
    {
     "name": "stdout",
     "output_type": "stream",
     "text": [
      "True\n",
      "False\n"
     ]
    }
   ],
   "source": [
    "#Build python code to match two digit number\n",
    "import re\n",
    "def twoDigitNumberMatch(n):\n",
    "    pattern=\"^[0-9]{2}$\"\n",
    "    n=str(n)\n",
    "    if re.match(pattern,n):\n",
    "        return True\n",
    "    return False\n",
    "print(twoDigitNumberMatch(12))\n",
    "print(twoDigitNumberMatch(123))"
   ]
  },
  {
   "cell_type": "code",
   "execution_count": null,
   "metadata": {},
   "outputs": [],
   "source": [
    "#user name matching\n",
    "#lower case and uppercase\n",
    "#[a-z],[A-Z],[0-9]\n",
    "#length of username--min length=6\n",
    "#max length=15"
   ]
  },
  {
   "cell_type": "code",
   "execution_count": 3,
   "metadata": {},
   "outputs": [
    {
     "name": "stdout",
     "output_type": "stream",
     "text": [
      "True\n",
      "False\n"
     ]
    }
   ],
   "source": [
    "def matchUserName(s):\n",
    "    pattern='^[A-Z a-z 0-9 _]{6,15}'\n",
    "    if re.match(pattern,s):\n",
    "        return True\n",
    "    return False\n",
    "print(matchUserName('Anil_1889'))\n",
    "print(matchUserName('Anil'))\n"
   ]
  },
  {
   "cell_type": "code",
   "execution_count": null,
   "metadata": {},
   "outputs": [],
   "source": [
    "#regular Experssions to validate roll number\n",
    "#Ex:1521A0501\n",
    "#Ex:1521A0109\n",
    "#Ex:1521A0499\n"
   ]
  },
  {
   "cell_type": "code",
   "execution_count": 9,
   "metadata": {},
   "outputs": [
    {
     "name": "stdout",
     "output_type": "stream",
     "text": [
      "True\n",
      "False\n"
     ]
    }
   ],
   "source": [
    "def rollNumberValidate(n):\n",
    "    pattern=\"^[1][5][2][1][A a][0][1-9][0-9][0-9]$\"\n",
    "    if re.match(pattern,n):\n",
    "        return True\n",
    "    return False\n",
    "print(rollNumberValidate('1521A0501'))\n",
    "print(rollNumberValidate('1521B0501'))"
   ]
  },
  {
   "cell_type": "code",
   "execution_count": null,
   "metadata": {},
   "outputs": [],
   "source": [
    "#regularExperssion to validate password\n",
    "#parameters:len--6 max--15 characters\n",
    "#Accept lower and upper case,digits,spl char(@,#,!)"
   ]
  },
  {
   "cell_type": "code",
   "execution_count": 8,
   "metadata": {},
   "outputs": [
    {
     "name": "stdout",
     "output_type": "stream",
     "text": [
      "True\n",
      "False\n"
     ]
    }
   ],
   "source": [
    "def passwordValidate(n):\n",
    "    pattern=\"^[a-z A-Z 0-9 @ # !]{6,15}$\"\n",
    "    if re.match(pattern,n):\n",
    "        return True\n",
    "    return False\n",
    "print(passwordValidate('11203034A@'))\n",
    "print(passwordValidate('kishore$'))"
   ]
  },
  {
   "cell_type": "code",
   "execution_count": null,
   "metadata": {},
   "outputs": [],
   "source": [
    "#validate indian mobile number\n",
    "#10 digit number\n",
    "#[6-9] --1 digit\n",
    "#[0-9]--9 digits\n",
    "#Exmaple +919553093619--[+][9][1][6-9][0-9]{9}\n",
    "#Example 9553093619--^[6-9][0-9]{9}$\n",
    "#Example 09553093619--[0][6-9][0-9]\n"
   ]
  },
  {
   "cell_type": "code",
   "execution_count": 13,
   "metadata": {},
   "outputs": [
    {
     "name": "stdout",
     "output_type": "stream",
     "text": [
      "True\n",
      "False\n"
     ]
    }
   ],
   "source": [
    "import re\n",
    "def validateIndianMobile(n):\n",
    "    pattern='^[6-9][0-9]{9}$|^[+][9][1][6-9][0-9]{9}$|^[0][6-9][0-9]{9}$'\n",
    "    n=str(n)\n",
    "    if re.match(pattern,n):\n",
    "        \n",
    "        return True\n",
    "    return False\n",
    "\n",
    "print(validateIndianMobile(9553093619))\n",
    "print(validateIndianMobile(5553093619))"
   ]
  },
  {
   "cell_type": "code",
   "execution_count": null,
   "metadata": {},
   "outputs": [],
   "source": [
    "#to validate EmailId\n",
    "#anilkumar@dhyanahita.org\n",
    "#anilkumar1889@gmail.com\n",
    "#anilkumar1889@hotmail.com\n",
    "#anilkumar1889@live.in\n",
    "\n",
    "#username @ Domain name . extension\n",
    "#username--[A-z a-z][a-z A-z 0-9 _ .]{5,15}\n",
    "#lower upper digit underscore and dot\n",
    "#first  char --lower/upper\n",
    "#max--16 min--6\n",
    "#domain name--[A-Z a-z]{3,10}\n",
    "#gmail,ymail,yahoo hotmail,outlook ,live\n",
    "#only characters--lower/upper case\n",
    "#min--3 max--10\n",
    "#extension--[A-Z a-z]{2,3}\n",
    "#com,in,au,org,en,us\n"
   ]
  },
  {
   "cell_type": "code",
   "execution_count": 16,
   "metadata": {},
   "outputs": [
    {
     "name": "stdout",
     "output_type": "stream",
     "text": [
      "True\n",
      "False\n"
     ]
    }
   ],
   "source": [
    "def validateEmailID(s):\n",
    "    pattern='^[A-z a-z][a-z A-z 0-9 _ .]{5,15}[@][A-Z a-z]{3,10}[.][A-Z a-z]{2,3}$'\n",
    "    if re.match(pattern,s):\n",
    "        return True\n",
    "    return False\n",
    "\n",
    "print(validateEmailID('anilkumar@dhyanahita.org'))\n",
    "print(validateEmailID('1889anilkumar@dhyanahita.org'))"
   ]
  },
  {
   "cell_type": "code",
   "execution_count": null,
   "metadata": {},
   "outputs": [],
   "source": []
  }
 ],
 "metadata": {
  "kernelspec": {
   "display_name": "Python 3",
   "language": "python",
   "name": "python3"
  },
  "language_info": {
   "codemirror_mode": {
    "name": "ipython",
    "version": 3
   },
   "file_extension": ".py",
   "mimetype": "text/x-python",
   "name": "python",
   "nbconvert_exporter": "python",
   "pygments_lexer": "ipython3",
   "version": "3.7.4"
  }
 },
 "nbformat": 4,
 "nbformat_minor": 2
}
