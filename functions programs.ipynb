{
 "cells": [
  {
   "cell_type": "markdown",
   "metadata": {},
   "source": [
    "# Accept name as input and search for that name in the master list if the name is available, print yes         or print no\n"
   ]
  },
  {
   "cell_type": "code",
   "execution_count": null,
   "metadata": {},
   "outputs": [],
   "source": [
    "\n",
    "def fun1(name):\n",
    "    l1=['kishore','singh','chandu']\n",
    "    if name in l1:\n",
    "        print('yes')\n",
    "    else:\n",
    "        print('no')    \n",
    "name=input('enter your name:')\n",
    "fun1(name)"
   ]
  },
  {
   "cell_type": "markdown",
   "metadata": {},
   "source": [
    "# Print the count of the students whose age is >20"
   ]
  },
  {
   "cell_type": "code",
   "execution_count": 1,
   "metadata": {},
   "outputs": [
    {
     "name": "stdout",
     "output_type": "stream",
     "text": [
      "enter how many students:do u want-->3\n",
      "enter age 23\n",
      "enter age 34\n",
      "enter age 56\n"
     ]
    },
    {
     "data": {
      "text/plain": [
       "3"
      ]
     },
     "execution_count": 1,
     "metadata": {},
     "output_type": "execute_result"
    }
   ],
   "source": [
    "def age(a):\n",
    "    l=[]\n",
    "    count=0\n",
    "    for i in range(1,a+1):\n",
    "        b=int(input('enter age '))\n",
    "        l.append(b)\n",
    "    l\n",
    "    for y in l:\n",
    "        if y>20:\n",
    "            count=count+1\n",
    "    return count\n",
    "    \n",
    "        \n",
    "a=int(input('enter how many students:do u want-->'))   \n",
    "age(a)\n",
    "\n"
   ]
  },
  {
   "cell_type": "markdown",
   "metadata": {},
   "source": [
    "# Read the Input as number and print the output as true or false. If the input number is prime then  print true otherwise print fasle"
   ]
  },
  {
   "cell_type": "code",
   "execution_count": 22,
   "metadata": {},
   "outputs": [
    {
     "name": "stdout",
     "output_type": "stream",
     "text": [
      "enter number11\n",
      "true\n"
     ]
    }
   ],
   "source": [
    "num=int(input('enter number'))\n",
    "def prime(num):\n",
    "    for i in range(2,num):\n",
    "        if num%i==0:\n",
    "            print('false')\n",
    "            break\n",
    "        \n",
    "    else:\n",
    "        print('true')\n",
    "prime(num)       \n",
    " "
   ]
  },
  {
   "cell_type": "markdown",
   "metadata": {},
   "source": [
    "# Read the input as number N and print the output as prime number count between 1 to N\n",
    " #Example 1;\n",
    "             #Input : 10\n",
    "            #Output : 4 (2,3,5,7)"
   ]
  },
  {
   "cell_type": "code",
   "execution_count": 66,
   "metadata": {},
   "outputs": [
    {
     "name": "stdout",
     "output_type": "stream",
     "text": [
      "Enter upper range: 10\n",
      "2,3,5,7,count 4\n"
     ]
    }
   ],
   "source": [
    "upto = int(input(\"Enter upper range: \"))  \n",
    "cnt = 0\n",
    "for num in range(1,upto + 1):\n",
    "    \n",
    "    if num > 1:  \n",
    "        for i in range(2,num):  \n",
    "            if (num % i) == 0:  \n",
    "                break\n",
    "                \n",
    "        else:\n",
    "            print(num,end=\",\")\n",
    "            cnt+=1\n",
    "print(\"count\", cnt)\n"
   ]
  },
  {
   "cell_type": "markdown",
   "metadata": {},
   "source": [
    "# Read the input as two limits and print the output as palindrome count between the two limits\n",
    "    #Example 1;\n",
    "     #Input : 1 10\n",
    "     #Output : 1 2 3 4 5 6 7 8 9\n",
    "   #Example 2:\n",
    "      #Input : 1 100\n",
    "      #Output : 1 2 3 4 5 6 7 8 9 11 22 33 44 55 66 77 88 99"
   ]
  },
  {
   "cell_type": "code",
   "execution_count": 73,
   "metadata": {},
   "outputs": [
    {
     "name": "stdout",
     "output_type": "stream",
     "text": [
      "enter starting range10\n",
      "enter ending range110\n",
      "11\n",
      "22\n",
      "33\n",
      "44\n",
      "55\n",
      "66\n",
      "77\n",
      "88\n",
      "99\n",
      "101\n"
     ]
    }
   ],
   "source": [
    "s=int(input('enter starting range'))\n",
    "l=int(input('enter ending range'))\n",
    "for num in range(s,l+1):\n",
    "   temp=num\n",
    "   reverse=0\n",
    "   while temp>0:\n",
    "       reminder=temp%10\n",
    "       reverse=(reverse*10)+reminder\n",
    "       temp=temp//10\n",
    "   if num==reverse:\n",
    "       print(num)"
   ]
  },
  {
   "cell_type": "code",
   "execution_count": null,
   "metadata": {},
   "outputs": [],
   "source": []
  }
 ],
 "metadata": {
  "kernelspec": {
   "display_name": "Python 3",
   "language": "python",
   "name": "python3"
  },
  "language_info": {
   "codemirror_mode": {
    "name": "ipython",
    "version": 3
   },
   "file_extension": ".py",
   "mimetype": "text/x-python",
   "name": "python",
   "nbconvert_exporter": "python",
   "pygments_lexer": "ipython3",
   "version": "3.7.4"
  }
 },
 "nbformat": 4,
 "nbformat_minor": 2
}
