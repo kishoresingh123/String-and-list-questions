{
 "cells": [
  {
   "cell_type": "markdown",
   "metadata": {},
   "source": [
    "# write data into a file\n",
    "f=open('kishore.txt','w')\n",
    "f.write('bye')\n",
    "f.close()"
   ]
  },
  {
   "cell_type": "markdown",
   "metadata": {},
   "source": [
    "# read data into a file\n",
    "f=open('kishore.txt','r')\n",
    "f.read()\n"
   ]
  },
  {
   "cell_type": "markdown",
   "metadata": {},
   "source": [
    "# read line"
   ]
  },
  {
   "cell_type": "code",
   "execution_count": 14,
   "metadata": {},
   "outputs": [
    {
     "data": {
      "text/plain": [
       "'hai\\n'"
      ]
     },
     "execution_count": 14,
     "metadata": {},
     "output_type": "execute_result"
    }
   ],
   "source": [
    "f=open('kishore.txt','r')\n",
    "f.readline()\n"
   ]
  },
  {
   "cell_type": "markdown",
   "metadata": {},
   "source": [
    "# read lines"
   ]
  },
  {
   "cell_type": "code",
   "execution_count": 20,
   "metadata": {},
   "outputs": [],
   "source": [
    "f=open('kishore.txt','r')\n",
    "f.readlines()"
   ]
  },
  {
   "cell_type": "markdown",
   "metadata": {},
   "source": [
    "# writelines"
   ]
  },
  {
   "cell_type": "code",
   "execution_count": 25,
   "metadata": {},
   "outputs": [],
   "source": [
    "f=open('kishore.txt','w')\n",
    "f.writelines('say python\\n hello')\n",
    "f.close()"
   ]
  },
  {
   "cell_type": "markdown",
   "metadata": {},
   "source": [
    "# append"
   ]
  },
  {
   "cell_type": "code",
   "execution_count": 26,
   "metadata": {},
   "outputs": [],
   "source": [
    "with open('kishore.txt','a') as f:\n",
    "    f.writelines('singh is king')\n",
    "    "
   ]
  },
  {
   "cell_type": "markdown",
   "metadata": {},
   "source": [
    "# 1. Function to create a file and write to the file"
   ]
  },
  {
   "cell_type": "code",
   "execution_count": 34,
   "metadata": {},
   "outputs": [
    {
     "name": "stdout",
     "output_type": "stream",
     "text": [
      "enter file name:data.txt\n",
      "enter mode:w\n",
      "file created with name: data.txt\n"
     ]
    }
   ],
   "source": [
    "def file(name,mode):\n",
    "    with open(name,mode) as f:\n",
    "        f.write('hai')\n",
    "        print('file created with name:',name)\n",
    "        \n",
    "name=input('enter file name:')\n",
    "mode=input('enter mode:')\n",
    "file(name,mode)"
   ]
  },
  {
   "cell_type": "markdown",
   "metadata": {},
   "source": [
    "# 2. Function to read of the file\n"
   ]
  },
  {
   "cell_type": "code",
   "execution_count": 39,
   "metadata": {},
   "outputs": [
    {
     "name": "stdout",
     "output_type": "stream",
     "text": [
      "enter file name:kishore.txt\n",
      "['say python\\n', ' hellosingh is king']\n"
     ]
    }
   ],
   "source": [
    "def fileread(name):\n",
    "    with open(name,'r') as f:\n",
    "        print(f.readlines())\n",
    "name=input('enter file name:')\n",
    "fileread(name)"
   ]
  },
  {
   "cell_type": "markdown",
   "metadata": {},
   "source": [
    "# 3. Word Count Program-Count the number of words present in the text file"
   ]
  },
  {
   "cell_type": "code",
   "execution_count": 46,
   "metadata": {},
   "outputs": [
    {
     "name": "stdout",
     "output_type": "stream",
     "text": [
      "enter file name:kishore.txt\n",
      "total words in your kishore.txt is 5\n"
     ]
    }
   ],
   "source": [
    "\n",
    "def findwords(name):\n",
    "    count=0\n",
    "    with open(name,'r') as f:\n",
    "        x=f.read()\n",
    "        y=x.split()\n",
    "        for i in y:\n",
    "            count=count+1\n",
    "    return count\n",
    "name=input('enter file name:')\n",
    "y=findwords(name)\n",
    "print('total words in your',name,'is',y)"
   ]
  },
  {
   "cell_type": "markdown",
   "metadata": {},
   "source": [
    "# 4. Count the number of characters from the given file"
   ]
  },
  {
   "cell_type": "code",
   "execution_count": 47,
   "metadata": {},
   "outputs": [
    {
     "name": "stdout",
     "output_type": "stream",
     "text": [
      "enter file name:kishore.txt\n",
      "total number of characters in kishore.txt is 30\n"
     ]
    }
   ],
   "source": [
    "def findchar(name):\n",
    "    count=0\n",
    "    with open(name,'r') as f:\n",
    "        x=f.read()\n",
    "        for i in x:\n",
    "             count=count+1\n",
    "    return count\n",
    "name=input('enter file name:')\n",
    "y=findchar(name)\n",
    "print('total number of characters in',name,'is',y)\n"
   ]
  },
  {
   "cell_type": "markdown",
   "metadata": {},
   "source": [
    "# 5. Function to find the no of lines in the input file\n",
    "       Input -- filename(file2.txt)\n",
    "       Output -- No of Lines(12"
   ]
  },
  {
   "cell_type": "code",
   "execution_count": 49,
   "metadata": {},
   "outputs": [
    {
     "name": "stdout",
     "output_type": "stream",
     "text": [
      "enter file name:kishore.txt\n",
      "total number of lines in kishore.txt is 2\n"
     ]
    }
   ],
   "source": [
    "def findlines(name):\n",
    "    count=0\n",
    "    with open(name,'r') as f:\n",
    "        x=f.readlines()\n",
    "        for i in x:\n",
    "             count=count+1\n",
    "    return count\n",
    "name=input('enter file name:')\n",
    "y=findlines(name)\n",
    "print('total number of lines in',name,'is',y)\n"
   ]
  },
  {
   "cell_type": "markdown",
   "metadata": {},
   "source": [
    "# 6. Function to print the Upper and Lower characters from the given file."
   ]
  },
  {
   "cell_type": "code",
   "execution_count": 57,
   "metadata": {},
   "outputs": [
    {
     "name": "stdout",
     "output_type": "stream",
     "text": [
      "enter file name:kishore.txt\n",
      "uppercase letters are in  kishore.txt file --> KISHORESINGHPANDEY\n",
      "lowercase letters are in  kishore.txt file --> say python\n",
      " hellosingh is king\n",
      "  \n"
     ]
    }
   ],
   "source": [
    "def findupperlower(name):\n",
    "    l1=''\n",
    "    l2=''\n",
    "    with open(name,'r') as f:\n",
    "        x=f.read()\n",
    "        for i in x:\n",
    "            if i.isupper()==True:\n",
    "                l1=l1+(i)\n",
    "            else:\n",
    "                l2=l2+(i)\n",
    "            \n",
    "            \n",
    "        print('uppercase letters are in ',name,'file -->',l1)\n",
    "        print('lowercase letters are in ',name,'file -->',l2)\n",
    "name=input('enter file name:')\n",
    "y=findupperlower(name)\n",
    "\n"
   ]
  },
  {
   "cell_type": "markdown",
   "metadata": {},
   "source": [
    "# 7. The program must accept an integer N the input. The program must print the desired pattern as shown in the Example Input/Output section.\n",
    "\n",
    "Input Format:\n",
    "\n",
    "The first line contains the value of N.\n",
    "\n",
    "Output Format:\n",
    "\n",
    "The list of lines containing the desired pattern as shown in the Example Input/Output sections.\n",
    "\n",
    "Example Input/Output 1:\n",
    "\n",
    "Input:\n",
    "\n",
    "41325\n",
    "\n",
    "Output:\n",
    "\n",
    "|****\n",
    "\n",
    "|*\n",
    "\n",
    "|***\n",
    "\n",
    "|**\n",
    "\n",
    "|*****\n",
    "\n",
    "Example Input/Output 2:\n",
    "\n",
    "Input:\n",
    "\n",
    "60710\n",
    "\n",
    "Output:\n",
    "\n",
    "|******\n",
    "\n",
    "|\n",
    "\n",
    "|*******\n",
    "\n",
    "|*"
   ]
  },
  {
   "cell_type": "code",
   "execution_count": 14,
   "metadata": {},
   "outputs": [
    {
     "name": "stdout",
     "output_type": "stream",
     "text": [
      "enter number65678\n",
      "| ******\n",
      "| *****\n",
      "| ******\n",
      "| *******\n",
      "| ********\n"
     ]
    }
   ],
   "source": [
    "num=int(input('enter number'))\n",
    "l=[]\n",
    "while num>0:\n",
    "    rem=num%10\n",
    "    l.append(rem)\n",
    "    num=num//10\n",
    "x=l[::-1]\n",
    "for i in x:\n",
    "    print(\"|\",(\"*\"*i))\n",
    "\n",
    "    "
   ]
  },
  {
   "cell_type": "markdown",
   "metadata": {},
   "source": [
    "# 2.  Write a Python program that accepts a word from the user and reverse it. "
   ]
  },
  {
   "cell_type": "code",
   "execution_count": 24,
   "metadata": {},
   "outputs": [
    {
     "name": "stdout",
     "output_type": "stream",
     "text": [
      "enter stringsingh\n",
      "h g n i s\n"
     ]
    }
   ],
   "source": [
    "s=input('enter string')\n",
    "l=[]\n",
    "for i in s:\n",
    "    l.insert(0,i)\n",
    "\n",
    "print(*l)\n",
    "    "
   ]
  },
  {
   "cell_type": "markdown",
   "metadata": {},
   "source": [
    "# 3. Write a Python program that prints all the numbers from 0 to 6 except 3 and 6. "
   ]
  },
  {
   "cell_type": "code",
   "execution_count": 38,
   "metadata": {},
   "outputs": [
    {
     "name": "stdout",
     "output_type": "stream",
     "text": [
      "0\n",
      "1\n",
      "2\n",
      "4\n",
      "5\n"
     ]
    }
   ],
   "source": [
    "\n",
    "for i in range(0,7):\n",
    "    if i==3 or i==6:\n",
    "        pass\n",
    "    else:\n",
    "        print(i)"
   ]
  },
  {
   "cell_type": "markdown",
   "metadata": {},
   "source": [
    "# 4.  Write a Python program that accepts a string and calculate the number of digits and letters. \n",
    "         Input: Python 3.6\n",
    "        Expected Output :\n",
    "                  Letters 6\n",
    "                  Digits 2 "
   ]
  },
  {
   "cell_type": "code",
   "execution_count": 39,
   "metadata": {},
   "outputs": [
    {
     "name": "stdout",
     "output_type": "stream",
     "text": [
      "enter stringsingh123\n",
      "letters: 5\n",
      "digits: 3\n"
     ]
    }
   ],
   "source": [
    "s=input('enter string')\n",
    "c=0\n",
    "c1=0\n",
    "for i in s:\n",
    "    if i.isalpha()==True:\n",
    "        c=c+1\n",
    "    else:\n",
    "        c1=c1+1\n",
    "print('letters:',c)\n",
    "print('digits:',c1)"
   ]
  },
  {
   "cell_type": "markdown",
   "metadata": {},
   "source": [
    "# 5.  Write a Python program to check whether an alphabet is a vowel or consonant. \n",
    "     Expected Output:\n",
    "    Input a letter of the alphabet: k                                       \n",
    "    k is a consonant."
   ]
  },
  {
   "cell_type": "code",
   "execution_count": 4,
   "metadata": {},
   "outputs": [
    {
     "name": "stdout",
     "output_type": "stream",
     "text": [
      "enter character -->s\n",
      "consonant\n"
     ]
    }
   ],
   "source": [
    "ch=input('enter character -->')\n",
    "vowels=[97,101,105,111,117,65,69,73,79,85]\n",
    "if ord(ch) in vowels:\n",
    "    print('vowel')\n",
    "else:\n",
    "    print('consonant')"
   ]
  },
  {
   "cell_type": "markdown",
   "metadata": {},
   "source": [
    "# 6. Write a Python program to check a string represent an integer or not.\n",
    "   Expected Output:\n",
    "      Input a string: Python                                                  \n",
    "      The string is not an integer."
   ]
  },
  {
   "cell_type": "code",
   "execution_count": 9,
   "metadata": {},
   "outputs": [
    {
     "name": "stdout",
     "output_type": "stream",
     "text": [
      "enter stringpython\n",
      "string\n"
     ]
    }
   ],
   "source": [
    "s=input('enter string')\n",
    "c=0\n",
    "for i in s:\n",
    "    if ord(i)>=48 and ord(i)<=57:\n",
    "        c=c+1\n",
    "    else:\n",
    "        pass\n",
    "if c>1:\n",
    "    print('interger')\n",
    "else:\n",
    "    print('string')\n",
    "       \n",
    "\n"
   ]
  },
  {
   "cell_type": "code",
   "execution_count": null,
   "metadata": {},
   "outputs": [],
   "source": []
  },
  {
   "cell_type": "code",
   "execution_count": null,
   "metadata": {},
   "outputs": [],
   "source": []
  }
 ],
 "metadata": {
  "kernelspec": {
   "display_name": "Python 3",
   "language": "python",
   "name": "python3"
  }
 },
 "nbformat": 4,
 "nbformat_minor": 2
}
