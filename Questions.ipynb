{
 "cells": [
  {
   "cell_type": "markdown",
   "metadata": {},
   "source": [
    "# Accepting 3 values as input from the user,you need to check whether student got minimum marks(30) in all the subjects,if not print fail.if he gets minimum marks then find average..if average is>75==>print grade asA.if the average is b/w 60-75,print the grade as B .if the avg id b/w 30-60,print as grade C,if <30 print it as fail."
   ]
  },
  {
   "cell_type": "code",
   "execution_count": null,
   "metadata": {},
   "outputs": [],
   "source": [
    "s1=int(input('enter Subject-1 marks'))\n",
    "s2=int(input('enter Subject-2 marks'))\n",
    "s3=int(input('enter Subject-3 marks'))\n",
    "avg=(s1+s2+s3)/3\n",
    "if s1 and s2 and s3 <30:\n",
    "    print('Fail')\n",
    "elif avg>=75:\n",
    "    print('Grade is A')\n",
    "elif avg>=60 and avg <75:\n",
    "    print('Grade is B')\n",
    "elif avg>=30 and avg<60:\n",
    "    print('Grade is C')\n",
    "elif avg<30:\n",
    "    print('Fail')\n",
    "    \n",
    "    "
   ]
  },
  {
   "cell_type": "markdown",
   "metadata": {},
   "source": [
    "# Check whether the given number is even or odd\n",
    " "
   ]
  },
  {
   "cell_type": "code",
   "execution_count": 3,
   "metadata": {},
   "outputs": [
    {
     "name": "stdout",
     "output_type": "stream",
     "text": [
      "enter number137\n",
      "You entered odd number\n"
     ]
    }
   ],
   "source": [
    "num=int(input(\"enter number\"))\n",
    "if num%2==0:\n",
    "    print('You entered even number')\n",
    "else:\n",
    "    print('You entered odd number')"
   ]
  },
  {
   "cell_type": "markdown",
   "metadata": {},
   "source": [
    "# Accept age of a person and decide whether the candidate is eligible for     voting or not#"
   ]
  },
  {
   "cell_type": "code",
   "execution_count": 4,
   "metadata": {},
   "outputs": [
    {
     "name": "stdout",
     "output_type": "stream",
     "text": [
      "Enter Your age12\n",
      "You ar kid so,not valid for vote\n"
     ]
    }
   ],
   "source": [
    "age=int(input('Enter Your age'))\n",
    "if age>=18:\n",
    "    print('valid for voting')\n",
    "else:\n",
    "    print('You ar kid so,not valid for vote')\n",
    "    "
   ]
  },
  {
   "cell_type": "markdown",
   "metadata": {},
   "source": [
    "\n",
    "# Check whether the given number is divible by 2 and 3 but not 4"
   ]
  },
  {
   "cell_type": "code",
   "execution_count": 2,
   "metadata": {},
   "outputs": [
    {
     "name": "stdout",
     "output_type": "stream",
     "text": [
      "enter number8\n",
      "8 is divisable by 4\n"
     ]
    }
   ],
   "source": [
    "num=int(input('enter number'))\n",
    "if num%2==0 and num%3==0 and num%4!=0:\n",
    "    print(num,'is divisable by 2 &3')\n",
    "else:\n",
    "    print(num,'is divisable by 4')"
   ]
  },
  {
   "cell_type": "markdown",
   "metadata": {},
   "source": [
    "# find the large number from the given 3 numbers.\n"
   ]
  },
  {
   "cell_type": "code",
   "execution_count": 3,
   "metadata": {},
   "outputs": [
    {
     "name": "stdout",
     "output_type": "stream",
     "text": [
      "enter 1st number23\n",
      "enter 2st number32\n",
      "enter 3st number45\n",
      "45 is big\n"
     ]
    }
   ],
   "source": [
    "num1=int(input('enter 1st number'))\n",
    "num2=int(input('enter 2st number'))\n",
    "num3=int(input('enter 3st number'))\n",
    "if num1>num2 and num1>num3:\n",
    "    print(num1,'is big')\n",
    "elif num2>num3:\n",
    "    print(num2,'is big')\n",
    "else:\n",
    "    print(num3,'is big')"
   ]
  },
  {
   "cell_type": "markdown",
   "metadata": {},
   "source": [
    "# check whether the given year is leap year or not. \n"
   ]
  },
  {
   "cell_type": "code",
   "execution_count": null,
   "metadata": {},
   "outputs": [],
   "source": [
    "year=int(input('Enter Year'))\n",
    "if year%4==0:\n",
    "    print('leap year')\n",
    "else:\n",
    "    print('not leap year')"
   ]
  },
  {
   "cell_type": "code",
   "execution_count": null,
   "metadata": {},
   "outputs": [],
   "source": []
  }
 ],
 "metadata": {
  "kernelspec": {
   "display_name": "Python 3",
   "language": "python",
   "name": "python3"
  },
  "language_info": {
   "codemirror_mode": {
    "name": "ipython",
    "version": 3
   },
   "file_extension": ".py",
   "mimetype": "text/x-python",
   "name": "python",
   "nbconvert_exporter": "python",
   "pygments_lexer": "ipython3",
   "version": "3.7.4"
  }
 },
 "nbformat": 4,
 "nbformat_minor": 2
}
