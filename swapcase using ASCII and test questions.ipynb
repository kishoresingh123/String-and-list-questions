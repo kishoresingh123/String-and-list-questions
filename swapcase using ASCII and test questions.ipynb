{
 "cells": [
  {
   "cell_type": "code",
   "execution_count": 25,
   "metadata": {},
   "outputs": [
    {
     "name": "stdout",
     "output_type": "stream",
     "text": [
      "['11', '22', '3', '4', '5', '6', '7', '8', '9']\n",
      "11 22 3 4 5 6 7 8 9\n"
     ]
    }
   ],
   "source": [
    "s=\"11 11 22 3 22 3 4 5 6 7 8 9\"\n",
    "s1=s.split()\n",
    "l=[]\n",
    "for i in s1:\n",
    "    if i not in l:\n",
    "        l.append(i)\n",
    "\n",
    "\n",
    "print(l)\n",
    "x=' '.join(l)\n",
    "print(x)\n",
    "\n",
    "\n",
    "    "
   ]
  },
  {
   "cell_type": "markdown",
   "metadata": {},
   "source": [
    "# "
   ]
  },
  {
   "cell_type": "code",
   "execution_count": 22,
   "metadata": {},
   "outputs": [
    {
     "name": "stdout",
     "output_type": "stream",
     "text": [
      "11 22 3 4 5 6 7 8 9\n"
     ]
    }
   ],
   "source": [
    "s=\"11 11 22 3 22 3 4 5 6 7 8 9\"\n",
    "s1=s.split()\n",
    "l=[]\n",
    "for i in s1:\n",
    "    if i not in l:\n",
    "        l.append(i)\n",
    "\n",
    "\n",
    "print(*l)\n"
   ]
  },
  {
   "cell_type": "code",
   "execution_count": 23,
   "metadata": {},
   "outputs": [
    {
     "name": "stdout",
     "output_type": "stream",
     "text": [
      "a B n V H G a j g j d f "
     ]
    }
   ],
   "source": [
    "s='AbNvhgAJGJDF'\n",
    "for i in s:\n",
    "    if ord(i)>=65 and ord(i)<=90:\n",
    "        print(i.lower(),end=\" \")\n",
    "    elif ord(i)>=97 and ord(i)<=122:\n",
    "        print(i.upper(),end=\" \")\n",
    "    "
   ]
  },
  {
   "cell_type": "code",
   "execution_count": null,
   "metadata": {},
   "outputs": [],
   "source": [
    " "
   ]
  }
 ],
 "metadata": {
  "kernelspec": {
   "display_name": "Python 3",
   "language": "python",
   "name": "python3"
  },
  "language_info": {
   "codemirror_mode": {
    "name": "ipython",
    "version": 3
   },
   "file_extension": ".py",
   "mimetype": "text/x-python",
   "name": "python",
   "nbconvert_exporter": "python",
   "pygments_lexer": "ipython3",
   "version": "3.7.4"
  }
 },
 "nbformat": 4,
 "nbformat_minor": 2
}
