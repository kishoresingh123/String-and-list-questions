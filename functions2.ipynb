{
 "cells": [
  {
   "cell_type": "markdown",
   "metadata": {},
   "source": [
    "# Read the input as string and Print the Output as Only even digit sum\n",
    "Example #1:\n",
    "Input : Applc18iation89\n",
    "Output : 16 (8+8)"
   ]
  },
  {
   "cell_type": "code",
   "execution_count": 8,
   "metadata": {},
   "outputs": [
    {
     "name": "stdout",
     "output_type": "stream",
     "text": [
      "16\n"
     ]
    }
   ],
   "source": [
    "s='Applc18iation89'\n",
    "l=[]\n",
    "l1=[]\n",
    "for ch in s:\n",
    "    if ch.isdigit():\n",
    "        l.append(ch)\n",
    "for x in l:\n",
    "    if int(x)%2==0:\n",
    "        l1.append(int(x))\n",
    "print(sum(l1))\n",
    "\n",
    "        \n",
    "        "
   ]
  },
  {
   "cell_type": "markdown",
   "metadata": {},
   "source": [
    "# Read a number as input and Print the Output as Factors of the given number\n",
    "  Example 1:\n",
    "    Input : 6\n",
    "    Output : 1 2 3 6"
   ]
  },
  {
   "cell_type": "code",
   "execution_count": 9,
   "metadata": {},
   "outputs": [
    {
     "name": "stdout",
     "output_type": "stream",
     "text": [
      "enter number6\n",
      "1\n",
      "2\n",
      "3\n",
      "6\n"
     ]
    }
   ],
   "source": [
    "n=int(input('enter number'))\n",
    "def facts(n):\n",
    "    for i in range(1,n+1):\n",
    "        if n%i==0:\n",
    "            print(i)\n",
    "facts(n)"
   ]
  },
  {
   "cell_type": "markdown",
   "metadata": {},
   "source": [
    "# The program must accept an integer N as the input. Need to print the largest digit     from the given number.\n",
    "  Example :\n",
    "    Input1: 6 9 1 8\n",
    "    Output:9"
   ]
  },
  {
   "cell_type": "code",
   "execution_count": 3,
   "metadata": {},
   "outputs": [
    {
     "name": "stdout",
     "output_type": "stream",
     "text": [
      "enter number1234\n",
      "4\n"
     ]
    }
   ],
   "source": [
    "n1=int(input('enter number'))\n",
    "n2=0\n",
    "while n1>0:\n",
    "    rem=n1%10\n",
    "    if n2<rem:\n",
    "        n2=rem\n",
    "    n1=n1//10\n",
    "print(n2)    "
   ]
  },
  {
   "cell_type": "markdown",
   "metadata": {},
   "source": [
    "# The program must accept an integer N as the input. Need to print the output in the following manner.\n",
    "  Boundary Condition(s):\n",
    "    Example:\n",
    "      Input1: 1889\n",
    "      Output:16\n",
    "      Input2: 19872\n",
    "      Output:10"
   ]
  },
  {
   "cell_type": "code",
   "execution_count": 3,
   "metadata": {},
   "outputs": [
    {
     "name": "stdout",
     "output_type": "stream",
     "text": [
      "enter a number19872\n",
      "10\n"
     ]
    }
   ],
   "source": [
    "num=int(input('enter a number'))\n",
    "n2=0\n",
    "while num>0:\n",
    "    rem=num%10\n",
    "    if rem%2==0:\n",
    "        n2=n2+rem\n",
    "    num=num//10\n",
    "print(n2)\n",
    "            \n",
    "    \n",
    "        \n",
    "        "
   ]
  },
  {
   "cell_type": "markdown",
   "metadata": {},
   "source": [
    "# Write a user-defined function to find factorial of a number in all the possible ways"
   ]
  },
  {
   "cell_type": "code",
   "execution_count": 4,
   "metadata": {},
   "outputs": [
    {
     "name": "stdout",
     "output_type": "stream",
     "text": [
      "enter number5\n",
      "factorial of  5 is 120\n"
     ]
    }
   ],
   "source": [
    "num=int(input('enter number'))\n",
    "fact=1\n",
    "for i in range(1,num+1):\n",
    "    fact=fact*i\n",
    "print('factorial of ',num,'is',fact)"
   ]
  },
  {
   "cell_type": "code",
   "execution_count": null,
   "metadata": {},
   "outputs": [],
   "source": [
    "The program must accept an integer N as the input. Need to print the output in the following manner.\n",
    "  Example Input/Output 1:\n",
    "    Input1:145\n",
    "    Output:yes\n",
    "    Input2:123\n",
    "    Output:no\n",
    " Explanation : \n",
    " Individual digit factorial sum is the same as the original number then need to print   YES otherwise  need to print NO\n",
    " #145 - 1! + 4! + 5! - 1 + 24 + 120 -- 145 -- YES\n",
    " #123 - 1! + 2! + 3! - 1 + 2 + 6 - 9 -- NO"
   ]
  },
  {
   "cell_type": "code",
   "execution_count": 13,
   "metadata": {},
   "outputs": [
    {
     "name": "stdout",
     "output_type": "stream",
     "text": [
      "enter number123\n",
      "no\n"
     ]
    }
   ],
   "source": [
    "import math\n",
    "num=int(input('enter number'))\n",
    "temp=num\n",
    "n=0\n",
    "while num>0:\n",
    "    rem=num%10\n",
    "    x=math.factorial(rem)\n",
    "    n=n+x\n",
    "    num=num//10\n",
    "if temp==n:\n",
    "    print('yes')\n",
    "else:\n",
    "    print('no')"
   ]
  },
  {
   "cell_type": "code",
   "execution_count": null,
   "metadata": {},
   "outputs": [],
   "source": []
  },
  {
   "cell_type": "code",
   "execution_count": null,
   "metadata": {},
   "outputs": [],
   "source": []
  }
 ],
 "metadata": {
  "kernelspec": {
   "display_name": "Python 3",
   "language": "python",
   "name": "python3"
  },
  "language_info": {
   "codemirror_mode": {
    "name": "ipython",
    "version": 3
   },
   "file_extension": ".py",
   "mimetype": "text/x-python",
   "name": "python",
   "nbconvert_exporter": "python",
   "pygments_lexer": "ipython3",
   "version": "3.7.4"
  }
 },
 "nbformat": 4,
 "nbformat_minor": 2
}
